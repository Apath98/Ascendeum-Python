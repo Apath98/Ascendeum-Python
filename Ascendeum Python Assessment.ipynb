{
 "cells": [
  {
   "cell_type": "code",
   "execution_count": 96,
   "id": "cb3146ac",
   "metadata": {},
   "outputs": [],
   "source": [
    "import numpy as np\n",
    "import pandas as pd"
   ]
  },
  {
   "cell_type": "code",
   "execution_count": 99,
   "id": "56ead4f1",
   "metadata": {},
   "outputs": [
    {
     "name": "stdout",
     "output_type": "stream",
     "text": [
      "Please enter the number of characters required:5\n",
      "         ['A'] \n",
      "\n",
      "       ['A' 'B'] \n",
      "\n",
      "     ['A' 'B' 'C'] \n",
      "\n",
      "   ['A' 'B' 'C' 'D'] \n",
      "\n",
      " ['A' 'B' 'C' 'D' 'E'] \n",
      "\n",
      "   ['A' 'B' 'C' 'D'] \n",
      "\n",
      "     ['A' 'B' 'C'] \n",
      "\n",
      "       ['A' 'B'] \n",
      "\n",
      "         ['A'] \n",
      "\n"
     ]
    }
   ],
   "source": [
    "a = int(input(\"Please enter the number of characters required:\"))\n",
    "\n",
    "alphabets = np.array([\"A\",\"B\",\"C\",\"D\",\"E\",\"F\",\"G\",\"H\",\"I\",\"J\",\"K\",\"L\",\"M\",\"N\",\"O\",\"P\",\"Q\",\"R\",\"S\",\"T\",\"U\",\"V\",\"W\",\"X\",\"Y\",\"Z\"])\n",
    "\n",
    "for i in range(1,a+1):\n",
    "    print((a-i)*\"  \",alphabets[0:i],\"\\n\")\n",
    "for i in range(a-1,0,-1):\n",
    "    print((a-i)*\"  \",alphabets[0:i],\"\\n\")"
   ]
  }
 ],
 "metadata": {
  "kernelspec": {
   "display_name": "Python 3 (ipykernel)",
   "language": "python",
   "name": "python3"
  },
  "language_info": {
   "codemirror_mode": {
    "name": "ipython",
    "version": 3
   },
   "file_extension": ".py",
   "mimetype": "text/x-python",
   "name": "python",
   "nbconvert_exporter": "python",
   "pygments_lexer": "ipython3",
   "version": "3.10.9"
  }
 },
 "nbformat": 4,
 "nbformat_minor": 5
}
